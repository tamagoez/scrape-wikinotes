{
  "nbformat": 4,
  "nbformat_minor": 0,
  "metadata": {
    "colab": {
      "name": "Web Scrape",
      "provenance": [],
      "collapsed_sections": [],
      "authorship_tag": "ABX9TyOayYo0IZJjcPrdRkqtib1O",
      "include_colab_link": true
    },
    "kernelspec": {
      "name": "python3",
      "display_name": "Python 3"
    },
    "language_info": {
      "name": "python"
    }
  },
  "cells": [
    {
      "cell_type": "markdown",
      "metadata": {
        "id": "view-in-github",
        "colab_type": "text"
      },
      "source": [
        "<a href=\"https://colab.research.google.com/github/tamagoez/scrape-wikinotes/blob/main/Search_rank.ipynb\" target=\"_parent\"><img src=\"https://colab.research.google.com/assets/colab-badge.svg\" alt=\"Open In Colab\"/></a>"
      ]
    },
    {
      "cell_type": "code",
      "source": [
        "import requests\n",
        "from bs4 import BeautifulSoup\n",
        "\n",
        "response = requests.get('https://www.google.com/search?q=vividarmy&ie=UTF-8&num=100')\n",
        "soup = BeautifulSoup(response.text, 'html.parser')\n",
        "h3 = soup.find_all('div', class_='BNeawe vvjwJb AP7Wnd')\n",
        "num = 0\n",
        "for item in h3:\n",
        "  # scrape = item[0].split('>')[1].split('</title')[0]\n",
        "  title = item.text\n",
        "  # print(title)\n",
        "  # https://note.nkmk.me/python-str-search/\n",
        "  # print('WikiNotes' in title)\n",
        "  if 'WikiNotes' in title:\n",
        "      print(num)\n",
        "  else:\n",
        "      num += 1"
      ],
      "metadata": {
        "colab": {
          "base_uri": "https://localhost:8080/"
        },
        "id": "zYuKrOmqvaCo",
        "outputId": "a3dccbea-000b-48de-833b-cc6ac0c86db0"
      },
      "execution_count": 50,
      "outputs": [
        {
          "output_type": "stream",
          "name": "stdout",
          "text": [
            "49\n"
          ]
        }
      ]
    }
  ]
}